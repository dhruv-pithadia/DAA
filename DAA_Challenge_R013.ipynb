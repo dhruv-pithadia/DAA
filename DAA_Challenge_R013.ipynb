{
 "cells": [
  {
   "cell_type": "markdown",
   "metadata": {},
   "source": [
    "## Name: Dhruv Pithadia\n",
    "\n",
    "## Semester: V\n",
    "\n",
    "## Program: MBA Tech A.I.\n",
    "\n",
    "## Course: Design and analysis of Algorithms\n",
    "\n",
    "## University: Mukesh Patel School of Technology Management and Engineering"
   ]
  },
  {
   "cell_type": "markdown",
   "metadata": {},
   "source": [
    "**Challenge 1**"
   ]
  },
  {
   "cell_type": "code",
   "execution_count": 21,
   "metadata": {},
   "outputs": [
    {
     "name": "stdout",
     "output_type": "stream",
     "text": [
      "Selected activities: ['A1', 'A3', 'A4', 'A6', 'A7', 'A9', 'A10']\n"
     ]
    }
   ],
   "source": [
    "def activities(start_t, finish_t, activity):\n",
    "    # Combine activity names with their start and finish times\n",
    "    activities = [(activity[i], start_t[i], finish_t[i]) for i in range(len(activity))]\n",
    "    # Sort activities based on their finish times\n",
    "    activities.sort(key= lambda x: x[2])\n",
    "    selected_activities = []\n",
    "    last_finish_time = 0\n",
    "    \n",
    "    # Loop through the sorted activities\n",
    "    for act in activities:\n",
    "        # If the start time of the current activity is greater than or equal to\n",
    "        # the finish time of the last selected activity, select this activity\n",
    "        if act[1] >= last_finish_time:\n",
    "            selected_activities.append(act[0])\n",
    "            last_finish_time = act[2]  # Update the last finish time to the current activity's finish time\n",
    "    return selected_activities\n",
    "\n",
    "Act = ['A1', 'A3', 'A2', 'A4', 'A6', 'A5', 'A7', 'A9', 'A8', 'A10']\n",
    "start = [1, 3, 2, 4, 8, 7, 9, 11, 9, 12]\n",
    "finish = [3, 4, 5, 7, 9, 10, 11, 12, 13, 14]\n",
    "\n",
    "print(\"Selected activities:\", activities(start, finish, Act))"
   ]
  },
  {
   "cell_type": "code",
   "execution_count": 1,
   "metadata": {},
   "outputs": [
    {
     "name": "stdout",
     "output_type": "stream",
     "text": [
      "[0, 10, 100, 0]\n"
     ]
    }
   ],
   "source": [
    "import numpy as np\n",
    "d = [2, 1, 2 ,1]\n",
    "p = [100,27, 15, 10]\n",
    "\n",
    "p1=[]\n",
    "\n",
    "\n",
    "j = [0,0,0,0]\n",
    "p.sort(reverse=True)\n",
    "\n",
    "for i in range(len(p)):\n",
    "    z = d[i]\n",
    "    if j[i] < p[i]:\n",
    "        j[z] = p[i]\n",
    "\n",
    "print(j)\n",
    "\n"
   ]
  }
 ],
 "metadata": {
  "kernelspec": {
   "display_name": "Python 3",
   "language": "python",
   "name": "python3"
  },
  "language_info": {
   "codemirror_mode": {
    "name": "ipython",
    "version": 3
   },
   "file_extension": ".py",
   "mimetype": "text/x-python",
   "name": "python",
   "nbconvert_exporter": "python",
   "pygments_lexer": "ipython3",
   "version": "3.12.2"
  }
 },
 "nbformat": 4,
 "nbformat_minor": 2
}
