{
 "cells": [
  {
   "cell_type": "markdown",
   "metadata": {},
   "source": [
    "Name: Dhruv Pithadia\n",
    "\n",
    "Semester: V\n",
    "\n",
    "Program: MBA Tech A.I.\n",
    "\n",
    "Course: Design and analysis of Algorithms\n",
    "\n",
    "University: Mukesh Patel School of Technology Management and Engineering"
   ]
  },
  {
   "cell_type": "code",
   "execution_count": null,
   "metadata": {},
   "outputs": [],
   "source": []
  }
 ],
 "metadata": {
  "kernelspec": {
   "display_name": "Python 3",
   "language": "python",
   "name": "python3"
  },
  "language_info": {
   "name": "python",
   "version": "3.12.2"
  }
 },
 "nbformat": 4,
 "nbformat_minor": 2
}
