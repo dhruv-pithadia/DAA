{
 "cells": [
  {
   "cell_type": "markdown",
   "metadata": {},
   "source": [
    "## Name: Dhruv Pithadia\n",
    "\n",
    "## Semester: V\n",
    "\n",
    "## Program: MBA Tech A.I.\n",
    "\n",
    "## Course: Design and analysis of Algorithms\n",
    "\n",
    "## University: Mukesh Patel School of Technology Management and Engineering"
   ]
  },
  {
   "cell_type": "code",
   "execution_count": 74,
   "metadata": {},
   "outputs": [],
   "source": [
    "def knapsack(profits, weights, capacity):\n",
    "    \n",
    "    ratios = [(profits[i]/weights[i], profits[i], weights[i]) for i in range(len(profits))]\n",
    "    \n",
    "    ratios.sort(reverse=True, key=lambda x: x[0])\n",
    "    total_value = 0\n",
    "    solution = []\n",
    "\n",
    "    for ratio, value, weight in ratios:\n",
    "        if capacity == 0:\n",
    "            break\n",
    "\n",
    "        else:\n",
    "            dalo_weight = min(weight, capacity)\n",
    "            total_value +=(dalo_weight*ratio)\n",
    "            capacity -= dalo_weight\n",
    "            solution.append([weight ,dalo_weight/weight])\n",
    "    return total_value, solution"
   ]
  },
  {
   "cell_type": "code",
   "execution_count": 80,
   "metadata": {},
   "outputs": [
    {
     "name": "stdout",
     "output_type": "stream",
     "text": [
      "The maximum Profit is: 55.333333333333336\n",
      "Solution to the problem in the format '[weight, units]' is: [[1, 1.0], [2, 1.0], [4, 1.0], [5, 1.0], [1, 1.0], [3, 0.6666666666666666]]\n"
     ]
    }
   ],
   "source": [
    "profit = [10,5,15,7,6,18,3]\n",
    "weights = [2, 3, 5, 7, 1, 4,1]\n",
    "capacity = 15\n",
    "\n",
    "TotalValue, Solutions = knapsack(profit, weights, capacity)\n",
    "\n",
    "print(f\"The maximum Profit is: {TotalValue}\")\n",
    "print(f\"Solution to the problem in the format '[weight, units]' is: {Solutions}\")"
   ]
  }
 ],
 "metadata": {
  "kernelspec": {
   "display_name": "Python 3",
   "language": "python",
   "name": "python3"
  },
  "language_info": {
   "codemirror_mode": {
    "name": "ipython",
    "version": 3
   },
   "file_extension": ".py",
   "mimetype": "text/x-python",
   "name": "python",
   "nbconvert_exporter": "python",
   "pygments_lexer": "ipython3",
   "version": "3.11.1"
  }
 },
 "nbformat": 4,
 "nbformat_minor": 2
}
