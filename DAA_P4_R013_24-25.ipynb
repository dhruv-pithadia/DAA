{
 "cells": [
  {
   "cell_type": "markdown",
   "metadata": {},
   "source": [
    "## Name: Dhruv Pithadia\n",
    "\n",
    "## Semester: V\n",
    "\n",
    "## Program: MBA Tech A.I.\n",
    "\n",
    "## Course: Design and analysis of Algorithms\n",
    "\n",
    "## University: Mukesh Patel School of Technology Management and Engineering"
   ]
  },
  {
   "cell_type": "code",
   "execution_count": 2,
   "metadata": {},
   "outputs": [
    {
     "name": "stdout",
     "output_type": "stream",
     "text": [
      "Encoded Output: 0110000111100000011111000000111101101011110101000010110010100010110110101111101100110111011100110001011011101001010110101111010010100101001100011110001001111\n",
      "Huffman Codebook: {'s': '0000', 'u': '00010', 'd': '00011', 'm': '0010', 'h': '0011', 'n': '010', 't': '01100', 'l': '01101', 'r': '01110', 'g': '01111', 'x': '10000', 'p': '10001', 'c': '10010', 'o': '10011', 'e': '1010', 'a': '1011', 'i': '1100', 'f': '1101', ' ': '111'}\n"
     ]
    }
   ],
   "source": [
    "import heapq\n",
    "from collections import Counter\n",
    "\n",
    "# Node class representing each element in the Huffman Tree\n",
    "class Leaflet:\n",
    "    def __init__(self, frequency, symbol=None, left_branch=None, right_branch=None):\n",
    "        self.frequency = frequency\n",
    "        self.symbol = symbol\n",
    "        self.left_branch = left_branch\n",
    "        self.right_branch = right_branch\n",
    "\n",
    "    # Comparator for heap operations\n",
    "    def __lt__(self, other):\n",
    "        return self.frequency < other.frequency\n",
    "\n",
    "# Function to construct the Huffman Tree\n",
    "def sculpt_huffman_tree(frequency_map):\n",
    "    min_heap = []\n",
    "    \n",
    "    # Populate heap with leaf nodes\n",
    "    for sym, freq in frequency_map.items():\n",
    "        heapq.heappush(min_heap, Leaflet(freq, sym))\n",
    "    \n",
    "    # Combine nodes until only one remains, representing the tree's root\n",
    "    while len(min_heap) > 1:\n",
    "        branch_left = heapq.heappop(min_heap)\n",
    "        branch_right = heapq.heappop(min_heap)\n",
    "        parent_node = Leaflet(branch_left.frequency + branch_right.frequency, left_branch=branch_left, right_branch=branch_right)\n",
    "        heapq.heappush(min_heap, parent_node)\n",
    "    \n",
    "    return heapq.heappop(min_heap)\n",
    "\n",
    "# Function to extract Huffman codes from the tree\n",
    "def forge_huffman_codes(tree_root, path=\"\", code_dict=None):\n",
    "    if code_dict is None:\n",
    "        code_dict = {}\n",
    "    if tree_root.symbol is not None:\n",
    "        code_dict[tree_root.symbol] = path\n",
    "    else:\n",
    "        forge_huffman_codes(tree_root.left_branch, path + \"0\", code_dict)\n",
    "        forge_huffman_codes(tree_root.right_branch, path + \"1\", code_dict)\n",
    "    return code_dict\n",
    "\n",
    "# Main Huffman Encoding function\n",
    "def encrypt_huffman(input_data):\n",
    "    # Frequency analysis of the input data\n",
    "    frequency_dict = Counter(input_data)\n",
    "    \n",
    "    # Build Huffman Tree\n",
    "    tree_top = sculpt_huffman_tree(frequency_dict)\n",
    "    \n",
    "    # Generate Huffman codes\n",
    "    huff_codes = forge_huffman_codes(tree_top)\n",
    "    \n",
    "    # Encode the input data\n",
    "    encrypted_sequence = \"\".join(huff_codes[char] for char in input_data)\n",
    "    \n",
    "    return encrypted_sequence, huff_codes\n",
    "\n",
    "# Example execution\n",
    "if __name__ == \"__main__\":\n",
    "    sample_text = \"this is an example for huffman encoding\"\n",
    "    encoded_result, codes = encrypt_huffman(sample_text)\n",
    "    \n",
    "    print(\"Encoded Output:\", encoded_result)\n",
    "    print(\"Huffman Codebook:\", codes)"
   ]
  },
  {
   "cell_type": "markdown",
   "metadata": {},
   "source": [
    "**Observation**\n",
    "\n",
    "In this experiment, we implemented Huffman Encoding, a popular algorithm used for lossless data compression. The algorithm builds a binary tree based on the frequency of characters in the input data and assigns shorter binary codes to more frequent characters. The Python code successfully demonstrates the following:\n",
    "\n",
    "Construction of a Huffman Tree using a priority queue (min-heap).\n",
    "Generation of binary codes for each character in the input based on the tree structure.\n",
    "Encoding the input string using the generated Huffman codes.\n",
    "\n",
    "**Learning**\n",
    "\n",
    "Data Compression: Huffman Encoding is an optimal method for compressing data based on character frequencies. This algorithm highlights how frequent \n",
    "characters can be assigned shorter codes to minimize the total size of the encoded data.\n",
    "\n",
    "Tree Structures: Understanding binary trees and their application in algorithms like Huffman helps in structuring data efficiently. The experiment \n",
    "reinforces the importance of tree-based algorithms in solving real-world problems.\n",
    "\n",
    "Heap Operations: The min-heap is crucial for constructing the tree by combining the two smallest frequency elements, a key concept for tree-\n",
    "building algorithms.\n",
    "\n",
    "Greedy Algorithm: Huffman Encoding is a classic example of a greedy algorithm, as it makes optimal local choices (choosing the smallest \n",
    "frequencies) to arrive at a globally optimal solution."
   ]
  },
  {
   "cell_type": "markdown",
   "metadata": {},
   "source": [
    "**Conclusion**\n",
    "\n",
    "The experiment successfully demonstrated the Huffman Encoding process, leading to an understanding of how data compression works by assigning optimal binary codes to characters based on their frequency. This approach is widely applicable in areas where efficient storage and transmission of data are necessary, such as in file compression formats like ZIP."
   ]
  }
 ],
 "metadata": {
  "kernelspec": {
   "display_name": "Python 3",
   "language": "python",
   "name": "python3"
  },
  "language_info": {
   "codemirror_mode": {
    "name": "ipython",
    "version": 3
   },
   "file_extension": ".py",
   "mimetype": "text/x-python",
   "name": "python",
   "nbconvert_exporter": "python",
   "pygments_lexer": "ipython3",
   "version": "3.12.2"
  }
 },
 "nbformat": 4,
 "nbformat_minor": 2
}
