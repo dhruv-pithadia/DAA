{
 "cells": [
  {
   "cell_type": "markdown",
   "metadata": {},
   "source": [
    "## Name: Dhruv Pithadia\n",
    "\n",
    "## Semester: V\n",
    "\n",
    "## Program: MBA Tech A.I.\n",
    "\n",
    "## Course: Design and analysis of Algorithms\n",
    "\n",
    "## University: Mukesh Patel School of Technology Management and Engineering"
   ]
  },
  {
   "cell_type": "code",
   "execution_count": 1,
   "metadata": {},
   "outputs": [
    {
     "name": "stdout",
     "output_type": "stream",
     "text": [
      "Encoded Data: 0110000111100000011111000000111101101011110101000010110010100010110110101111101100110111011100110001011011101001010110101111010010100101001100011110001001111\n",
      "Huffman Codes: {'s': '0000', 'u': '00010', 'd': '00011', 'm': '0010', 'h': '0011', 'n': '010', 't': '01100', 'l': '01101', 'r': '01110', 'g': '01111', 'x': '10000', 'p': '10001', 'c': '10010', 'o': '10011', 'e': '1010', 'a': '1011', 'i': '1100', 'f': '1101', ' ': '111'}\n"
     ]
    }
   ],
   "source": [
    "import heapq\n",
    "from collections import defaultdict, Counter\n",
    "\n",
    "# Node class for Huffman Tree\n",
    "class Node:\n",
    "    def __init__(self, freq, char=None, left=None, right=None):\n",
    "        self.freq = freq\n",
    "        self.char = char\n",
    "        self.left = left\n",
    "        self.right = right\n",
    "\n",
    "    # Define comparison operators for heapq\n",
    "    def __lt__(self, other):\n",
    "        return self.freq < other.freq\n",
    "\n",
    "# Function to build the Huffman Tree\n",
    "def build_huffman_tree(frequencies):\n",
    "    heap = []\n",
    "    \n",
    "    # Create a leaf node for each character and add it to the priority queue\n",
    "    for char, freq in frequencies.items():\n",
    "        heapq.heappush(heap, Node(freq, char))\n",
    "    \n",
    "    # Merge nodes until there is only one node left (the root of the tree)\n",
    "    while len(heap) > 1:\n",
    "        left = heapq.heappop(heap)\n",
    "        right = heapq.heappop(heap)\n",
    "        merged = Node(left.freq + right.freq, left=left, right=right)\n",
    "        heapq.heappush(heap, merged)\n",
    "    \n",
    "    return heapq.heappop(heap)\n",
    "\n",
    "# Function to generate the Huffman codes\n",
    "def generate_huffman_codes(node, prefix=\"\", codebook={}):\n",
    "    if node.char is not None:\n",
    "        codebook[node.char] = prefix\n",
    "    else:\n",
    "        generate_huffman_codes(node.left, prefix + \"0\", codebook)\n",
    "        generate_huffman_codes(node.right, prefix + \"1\", codebook)\n",
    "    return codebook\n",
    "\n",
    "# Huffman Encoding function\n",
    "def huffman_encoding(data):\n",
    "    # Calculate frequencies of each character in the data\n",
    "    frequencies = Counter(data)\n",
    "    \n",
    "    # Build the Huffman Tree\n",
    "    root = build_huffman_tree(frequencies)\n",
    "    \n",
    "    # Generate Huffman codes for each character\n",
    "    huffman_codes = generate_huffman_codes(root)\n",
    "    \n",
    "    # Encode the data\n",
    "    encoded_data = \"\".join(huffman_codes[char] for char in data)\n",
    "    \n",
    "    return encoded_data, huffman_codes\n",
    "\n",
    "# Example usage\n",
    "if __name__ == \"__main__\":\n",
    "    data = \"this is an example for huffman encoding\"\n",
    "    encoded_data, huffman_codes = huffman_encoding(data)\n",
    "    \n",
    "    print(\"Encoded Data:\", encoded_data)\n",
    "    print(\"Huffman Codes:\", huffman_codes)"
   ]
  }
 ],
 "metadata": {
  "kernelspec": {
   "display_name": "Python 3",
   "language": "python",
   "name": "python3"
  },
  "language_info": {
   "codemirror_mode": {
    "name": "ipython",
    "version": 3
   },
   "file_extension": ".py",
   "mimetype": "text/x-python",
   "name": "python",
   "nbconvert_exporter": "python",
   "pygments_lexer": "ipython3",
   "version": "3.12.2"
  }
 },
 "nbformat": 4,
 "nbformat_minor": 2
}
