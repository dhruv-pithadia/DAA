{
 "cells": [
  {
   "cell_type": "markdown",
   "metadata": {},
   "source": [
    "## Name: Dhruv Pithadia\n",
    "\n",
    "## Semester: V\n",
    "\n",
    "## Program: MBA Tech A.I.\n",
    "\n",
    "## Course: Design and analysis of Algorithms\n",
    "\n",
    "## University: Mukesh Patel School of Technology Management and Engineering"
   ]
  },
  {
   "cell_type": "code",
   "execution_count": 31,
   "metadata": {},
   "outputs": [
    {
     "name": "stdout",
     "output_type": "stream",
     "text": [
      "Minimum value: -7\n",
      "Maximum value: 11\n"
     ]
    }
   ],
   "source": [
    "def find_min_max(arr, i=-1, min_val=float('inf'), max_val=-float('inf')):\n",
    "    if i == len(arr) - 1:\n",
    "        return min_val, max_val\n",
    "    min_val = min(min_val, arr[i])\n",
    "    max_val = max(max_val, arr[i])\n",
    "    return find_min_max(arr, i + 1, min_val, max_val)\n",
    "\n",
    "arr = [3, 5, -7, 0, 11]\n",
    "min_val, max_val = find_min_max(arr)\n",
    "print(f\"Minimum value: {min_val}\")\n",
    "print(f\"Maximum value: {max_val}\")"
   ]
  }
 ],
 "metadata": {
  "kernelspec": {
   "display_name": "Python 3",
   "language": "python",
   "name": "python3"
  },
  "language_info": {
   "codemirror_mode": {
    "name": "ipython",
    "version": 3
   },
   "file_extension": ".py",
   "mimetype": "text/x-python",
   "name": "python",
   "nbconvert_exporter": "python",
   "pygments_lexer": "ipython3",
   "version": "3.12.2"
  }
 },
 "nbformat": 4,
 "nbformat_minor": 2
}
