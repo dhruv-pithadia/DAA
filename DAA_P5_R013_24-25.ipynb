{
 "cells": [
  {
   "cell_type": "markdown",
   "metadata": {},
   "source": [
    "## Name: Dhruv Pithadia\n",
    "\n",
    "## Semester: V\n",
    "\n",
    "## Program: MBA Tech A.I.\n",
    "\n",
    "## Course: Design and analysis of Algorithms\n",
    "\n",
    "## University: Mukesh Patel School of Technology Management and Engineering"
   ]
  },
  {
   "cell_type": "code",
   "execution_count": 31,
   "metadata": {},
   "outputs": [
    {
     "name": "stdout",
     "output_type": "stream",
     "text": [
      "Minimum value: -7\n",
      "Maximum value: 11\n"
     ]
    }
   ],
   "source": [
    "def find_min_max(arr, i=-1, min_val=float('inf'), max_val=-float('inf')):\n",
    "    if i == len(arr) - 1:\n",
    "        return min_val, max_val\n",
    "    min_val = min(min_val, arr[i])\n",
    "    max_val = max(max_val, arr[i])\n",
    "    return find_min_max(arr, i + 1, min_val, max_val)\n",
    "\n",
    "arr = [3, 5, -7, 0, 11]\n",
    "min_val, max_val = find_min_max(arr)\n",
    "print(f\"Minimum value: {min_val}\")\n",
    "print(f\"Maximum value: {max_val}\")"
   ]
  },
  {
   "cell_type": "markdown",
   "metadata": {},
   "source": [
    "**Observation**\n",
    "\n",
    "In this experiment, the task was to implement a recursive function to find the minimum and maximum values in an array. The code avoids iterative loops and instead uses recursion to compare each element of the array with the current minimum and maximum values. The function updates the minimum and maximum values as it recursively traverses the array.\n",
    "\n",
    "**Learning**\n",
    "\n",
    "Recursion: The experiment reinforces how recursive functions can be used to solve problems by breaking them into smaller subproblems. Instead of relying on loops, the recursive approach allows us to traverse the array and update the minimum and maximum values.\n",
    "\n",
    "Base and Recursive Case: Understanding the base case (when the end of the array is reached) and recursive case (continuing to traverse the array) is essential in designing recursive algorithms.\n",
    "\n",
    "Function Parameters: The use of default arguments (i=-1, min_val=float('inf'), max_val=-float('inf')) helps initialize the recursion and ensures that the function can work independently without requiring the caller to provide these initial values.\n",
    "\n",
    "Efficiency Consideration: Although recursion is a powerful tool, in certain cases, it may lead to stack overflow or inefficiency compared to iterative approaches, especially for large datasets."
   ]
  },
  {
   "cell_type": "markdown",
   "metadata": {},
   "source": [
    "**Conclusion**\n",
    "\n",
    "The recursive function effectively computes the minimum and maximum values in the given array without using loops. This experiment demonstrates an alternate approach to solving simple problems, which is useful for understanding the underlying principles of recursion and function design. However, for large datasets, iterative methods may be more efficient due to recursion depth limitations in certain environments."
   ]
  }
 ],
 "metadata": {
  "kernelspec": {
   "display_name": "Python 3",
   "language": "python",
   "name": "python3"
  },
  "language_info": {
   "codemirror_mode": {
    "name": "ipython",
    "version": 3
   },
   "file_extension": ".py",
   "mimetype": "text/x-python",
   "name": "python",
   "nbconvert_exporter": "python",
   "pygments_lexer": "ipython3",
   "version": "3.12.2"
  }
 },
 "nbformat": 4,
 "nbformat_minor": 2
}
