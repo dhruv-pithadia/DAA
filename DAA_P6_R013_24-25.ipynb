{
 "cells": [
  {
   "cell_type": "markdown",
   "metadata": {},
   "source": [
    "## Name: Dhruv Pithadia\n",
    "\n",
    "## Semester: V\n",
    "\n",
    "## Program: MBA Tech A.I.\n",
    "\n",
    "## Course: Design and analysis of Algorithms\n",
    "\n",
    "## University: Mukesh Patel School of Technology Management and Engineering"
   ]
  },
  {
   "cell_type": "code",
   "execution_count": 32,
   "metadata": {},
   "outputs": [
    {
     "name": "stdout",
     "output_type": "stream",
     "text": [
      "[3, 5, 6, 7, 9, 12, 44, 78, 98]\n"
     ]
    }
   ],
   "source": [
    "def merge_sort(arr):\n",
    "    if len(arr)<=1:\n",
    "        return arr\n",
    "    \n",
    "    mid = len(arr) // 2\n",
    "    \n",
    "    left_half = arr[:mid]\n",
    "    right_half = arr[mid:]\n",
    "\n",
    "    left_half = merge_sort(left_half)\n",
    "    right_half = merge_sort(right_half)\n",
    "\n",
    "    return merge(left_half, right_half)\n",
    "\n",
    "def merge(left, right):\n",
    "    merged = []\n",
    "    i = 0\n",
    "    j = 0\n",
    "\n",
    "    while i < len(left) and j < len(right):\n",
    "        if left[i] <= right[j]:\n",
    "            merged.append(left[i])\n",
    "            i += 1\n",
    "        else:\n",
    "            merged.append(right[j])\n",
    "            j += 1\n",
    "\n",
    "    merged.extend(left[i:])\n",
    "    merged.extend(right[j:])\n",
    "\n",
    "    return merged\n",
    "\n",
    "print(merge_sort([12, 5, 98, 7, 9, 3, 6, 78, 44]))\n",
    "    \n",
    "\n",
    "    "
   ]
  }
 ],
 "metadata": {
  "kernelspec": {
   "display_name": "Python 3",
   "language": "python",
   "name": "python3"
  },
  "language_info": {
   "codemirror_mode": {
    "name": "ipython",
    "version": 3
   },
   "file_extension": ".py",
   "mimetype": "text/x-python",
   "name": "python",
   "nbconvert_exporter": "python",
   "pygments_lexer": "ipython3",
   "version": "3.12.2"
  }
 },
 "nbformat": 4,
 "nbformat_minor": 2
}
