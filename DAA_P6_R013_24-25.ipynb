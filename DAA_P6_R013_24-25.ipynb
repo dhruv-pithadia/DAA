{
 "cells": [
  {
   "cell_type": "markdown",
   "metadata": {},
   "source": [
    "## Name: Dhruv Pithadia\n",
    "\n",
    "## Semester: V\n",
    "\n",
    "## Program: MBA Tech A.I.\n",
    "\n",
    "## Course: Design and analysis of Algorithms\n",
    "\n",
    "## University: Mukesh Patel School of Technology Management and Engineering"
   ]
  },
  {
   "cell_type": "code",
   "execution_count": 32,
   "metadata": {},
   "outputs": [
    {
     "name": "stdout",
     "output_type": "stream",
     "text": [
      "[3, 5, 6, 7, 9, 12, 44, 78, 98]\n"
     ]
    }
   ],
   "source": [
    "def merge_sort(arr):\n",
    "    if len(arr)<=1:\n",
    "        return arr\n",
    "    \n",
    "    mid = len(arr) // 2\n",
    "    \n",
    "    left_half = arr[:mid]\n",
    "    right_half = arr[mid:]\n",
    "\n",
    "    left_half = merge_sort(left_half)\n",
    "    right_half = merge_sort(right_half)\n",
    "\n",
    "    return merge(left_half, right_half)\n",
    "\n",
    "def merge(left, right):\n",
    "    merged = []\n",
    "    i = 0\n",
    "    j = 0\n",
    "\n",
    "    while i < len(left) and j < len(right):\n",
    "        if left[i] <= right[j]:\n",
    "            merged.append(left[i])\n",
    "            i += 1\n",
    "        else:\n",
    "            merged.append(right[j])\n",
    "            j += 1\n",
    "\n",
    "    merged.extend(left[i:])\n",
    "    merged.extend(right[j:])\n",
    "\n",
    "    return merged\n",
    "\n",
    "print(merge_sort([12, 5, 98, 7, 9, 3, 6, 78, 44]))\n",
    "    \n",
    "\n",
    "    "
   ]
  },
  {
   "cell_type": "markdown",
   "metadata": {},
   "source": [
    "**Observation**\n",
    "\n",
    "In this experiment, the task was to implement the Merge Sort algorithm, a popular divide-and-conquer algorithm for sorting arrays. The code recursively splits the input array into smaller halves until each subarray has only one element, then merges these subarrays back together in sorted order. The algorithm divides the input array into two parts, recursively sorts them, and merges them back into a sorted array.\n",
    "\n",
    "**Learning**\n",
    "\n",
    "Divide and Conquer Approach: Merge Sort divides the problem into subproblems, recursively sorts each subproblem, and then merges the sorted subarrays. This approach is efficient and widely used for sorting large datasets.\n",
    "\n",
    "Recursion: The function is a classic example of recursive programming. It breaks the array into smaller halves until the base condition (array of length 1) is reached. This recursive breakdown reduces the complexity of sorting.\n",
    "\n",
    "Merging Step: The merge function is the key to combining two sorted arrays into one sorted array. It compares elements from both arrays and merges them in the correct order.\n",
    "\n",
    "Stable Sort: Merge Sort is a stable sorting algorithm, meaning it preserves the relative order of elements with equal values. This property makes it suitable for applications where maintaining the original order is important.\n",
    "\n",
    "Time Complexity: Merge Sort operates with a time complexity of O(n log n), which makes it more efficient than simpler algorithms like bubble sort or insertion sort for larger datasets."
   ]
  },
  {
   "cell_type": "markdown",
   "metadata": {},
   "source": [
    "**Conclusion**\n",
    "\n",
    "The experiment successfully implemented the Merge Sort algorithm, which efficiently sorts an array by recursively dividing it and merging sorted subarrays. Merge Sort is a powerful, stable sorting algorithm with good performance characteristics, particularly for large datasets. Its O(n log n) time complexity ensures that it remains efficient even as the size of the input array grows. However, it requires additional memory for the merge step, which could be a limitation in memory-constrained environments."
   ]
  }
 ],
 "metadata": {
  "kernelspec": {
   "display_name": "Python 3",
   "language": "python",
   "name": "python3"
  },
  "language_info": {
   "codemirror_mode": {
    "name": "ipython",
    "version": 3
   },
   "file_extension": ".py",
   "mimetype": "text/x-python",
   "name": "python",
   "nbconvert_exporter": "python",
   "pygments_lexer": "ipython3",
   "version": "3.12.2"
  }
 },
 "nbformat": 4,
 "nbformat_minor": 2
}
