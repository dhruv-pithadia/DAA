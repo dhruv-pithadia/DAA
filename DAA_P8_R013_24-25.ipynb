{
 "cells": [
  {
   "cell_type": "code",
   "execution_count": 2,
   "metadata": {},
   "outputs": [],
   "source": [
    "def lcs_length(X, Y):\n",
    "    m = len(X)\n",
    "    n = len(Y)\n",
    "    \n",
    "    \n",
    "    c = [[0] * (n + 1) for _ in range(m + 1)]\n",
    "    b = [[''] * (n + 1) for _ in range(m + 1)]\n",
    "\n",
    "    \n",
    "    for i in range(1, m + 1):\n",
    "        for j in range(1, n + 1):\n",
    "            if X[i - 1] == Y[j - 1]:  \n",
    "                c[i][j] = c[i - 1][j - 1] + 1\n",
    "                b[i][j] = \"↖\"  \n",
    "            elif c[i - 1][j] >= c[i][j - 1]: \n",
    "                c[i][j] = c[i - 1][j]\n",
    "                b[i][j] = \"↑\"  \n",
    "            else:  \n",
    "                c[i][j] = c[i][j - 1]\n",
    "                b[i][j] = \"←\"  \n",
    "\n",
    "    return c, b\n",
    "\n",
    "def print_lcs(b, X, i, j):\n",
    "    \"\"\"Helper function to print the LCS using the b table.\"\"\"\n",
    "    if i == 0 or j == 0:\n",
    "        return \"\"\n",
    "    if b[i][j] == \"↖\":\n",
    "        return print_lcs(b, X, i - 1, j - 1) + X[i - 1]\n",
    "    elif b[i][j] == \"↑\":\n",
    "        return print_lcs(b, X, i - 1, j)\n",
    "    else:\n",
    "        return print_lcs(b, X, i, j - 1)\n"
   ]
  },
  {
   "cell_type": "code",
   "execution_count": 3,
   "metadata": {},
   "outputs": [
    {
     "name": "stdout",
     "output_type": "stream",
     "text": [
      "Length of LCS: 3\n",
      "LCS: ATA\n"
     ]
    }
   ],
   "source": [
    "# Example usage\n",
    "X = \"BATA\"\n",
    "Y = \"TATA\"\n",
    "\n",
    "c, b = lcs_length(X, Y)\n",
    "print(\"Length of LCS:\", c[len(X)][len(Y)])\n",
    "print(\"LCS:\", print_lcs(b, X, len(X), len(Y)))"
   ]
  },
  {
   "cell_type": "code",
   "execution_count": null,
   "metadata": {},
   "outputs": [],
   "source": []
  }
 ],
 "metadata": {
  "kernelspec": {
   "display_name": "Python 3",
   "language": "python",
   "name": "python3"
  },
  "language_info": {
   "codemirror_mode": {
    "name": "ipython",
    "version": 3
   },
   "file_extension": ".py",
   "mimetype": "text/x-python",
   "name": "python",
   "nbconvert_exporter": "python",
   "pygments_lexer": "ipython3",
   "version": "3.12.2"
  }
 },
 "nbformat": 4,
 "nbformat_minor": 2
}
