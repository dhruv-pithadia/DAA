{
 "cells": [
  {
   "cell_type": "code",
   "execution_count": 1,
   "metadata": {},
   "outputs": [
    {
     "name": "stdout",
     "output_type": "stream",
     "text": [
      "Length of LCS: 4\n",
      "LCS: BCAB\n"
     ]
    }
   ],
   "source": [
    "def lcs_length(X, Y):\n",
    "    m = len(X)\n",
    "    n = len(Y)\n",
    "    \n",
    "    # Initialize the tables c and b\n",
    "    c = [[0] * (n + 1) for _ in range(m + 1)]\n",
    "    b = [[''] * (n + 1) for _ in range(m + 1)]\n",
    "\n",
    "    # Fill the c and b tables using dynamic programming\n",
    "    for i in range(1, m + 1):\n",
    "        for j in range(1, n + 1):\n",
    "            if X[i - 1] == Y[j - 1]:  # Characters match\n",
    "                c[i][j] = c[i - 1][j - 1] + 1\n",
    "                b[i][j] = \"↖\"  # Diagonal arrow (match)\n",
    "            elif c[i - 1][j] >= c[i][j - 1]:  # Choose upper value\n",
    "                c[i][j] = c[i - 1][j]\n",
    "                b[i][j] = \"↑\"  # Up arrow (from top)\n",
    "            else:  # Choose left value\n",
    "                c[i][j] = c[i][j - 1]\n",
    "                b[i][j] = \"←\"  # Left arrow (from left)\n",
    "\n",
    "    return c, b\n",
    "\n",
    "def print_lcs(b, X, i, j):\n",
    "    \"\"\"Helper function to print the LCS using the b table.\"\"\"\n",
    "    if i == 0 or j == 0:\n",
    "        return \"\"\n",
    "    if b[i][j] == \"↖\":\n",
    "        return print_lcs(b, X, i - 1, j - 1) + X[i - 1]\n",
    "    elif b[i][j] == \"↑\":\n",
    "        return print_lcs(b, X, i - 1, j)\n",
    "    else:\n",
    "        return print_lcs(b, X, i, j - 1)\n",
    "\n",
    "# Example usage\n",
    "X = \"ABCBDAB\"\n",
    "Y = \"BDCAB\"\n",
    "\n",
    "c, b = lcs_length(X, Y)\n",
    "print(\"Length of LCS:\", c[len(X)][len(Y)])\n",
    "print(\"LCS:\", print_lcs(b, X, len(X), len(Y)))"
   ]
  }
 ],
 "metadata": {
  "kernelspec": {
   "display_name": "Python 3",
   "language": "python",
   "name": "python3"
  },
  "language_info": {
   "codemirror_mode": {
    "name": "ipython",
    "version": 3
   },
   "file_extension": ".py",
   "mimetype": "text/x-python",
   "name": "python",
   "nbconvert_exporter": "python",
   "pygments_lexer": "ipython3",
   "version": "3.12.2"
  }
 },
 "nbformat": 4,
 "nbformat_minor": 2
}
