{
 "cells": [
  {
   "cell_type": "code",
   "execution_count": 3,
   "metadata": {},
   "outputs": [],
   "source": [
    "import sys\n",
    "\n",
    "def matrix_chain_order(p):\n",
    "    \n",
    "    n = len(p) - 1  \n",
    "    \n",
    "    m = [[0] * n for _ in range(n)]  # Minimum multiplications\n",
    "    s = [[0] * n for _ in range(n)]  # Store split points\n",
    "\n",
    "    # Fill the m table using the DP approach\n",
    "    for l in range(2, n + 1):  # l is the chain length\n",
    "        for i in range(n - l + 1):\n",
    "            j = i + l - 1\n",
    "            m[i][j] = sys.maxsize  # Initialize to infinity\n",
    "            for k in range(i, j):\n",
    "                # Calculate cost of splitting at k\n",
    "                cost = m[i][k] + m[k + 1][j] + p[i] * p[k + 1] * p[j + 1]\n",
    "                if cost < m[i][j]:\n",
    "                    m[i][j] = cost\n",
    "                    s[i][j] = k  # Store the split point\n",
    "\n",
    "    return m[0][n - 1], s\n",
    "\n",
    "def print_optimal_parenthesization(s, i, j):\n",
    "    \"\"\"Recursively print the optimal multiplication sequence.\"\"\"\n",
    "    if i == j:\n",
    "        return f\"M{i+1}\"\n",
    "    else:\n",
    "        return f\"({print_optimal_parenthesization(s, i, s[i][j])} x {print_optimal_parenthesization(s, s[i][j] + 1, j)})\""
   ]
  },
  {
   "cell_type": "code",
   "execution_count": 5,
   "metadata": {},
   "outputs": [
    {
     "name": "stdout",
     "output_type": "stream",
     "text": [
      "Minimum number of scalar multiplications: 158\n",
      "Optimal multiplication sequence: ((M1 x (M2 x M3)) x M4)\n"
     ]
    }
   ],
   "source": [
    "p = [5, 4, 6, 2, 7]\n",
    "min_cost, s = matrix_chain_order(p)\n",
    "optimal_sequence = print_optimal_parenthesization(s, 0, len(p) - 2)\n",
    "\n",
    "print(\"Minimum number of scalar multiplications:\", min_cost)\n",
    "print(\"Optimal multiplication sequence:\", optimal_sequence)"
   ]
  }
 ],
 "metadata": {
  "kernelspec": {
   "display_name": "Python 3",
   "language": "python",
   "name": "python3"
  },
  "language_info": {
   "codemirror_mode": {
    "name": "ipython",
    "version": 3
   },
   "file_extension": ".py",
   "mimetype": "text/x-python",
   "name": "python",
   "nbconvert_exporter": "python",
   "pygments_lexer": "ipython3",
   "version": "3.12.2"
  }
 },
 "nbformat": 4,
 "nbformat_minor": 2
}
