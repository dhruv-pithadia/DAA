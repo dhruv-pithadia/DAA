{
 "cells": [
  {
   "cell_type": "code",
   "execution_count": 2,
   "metadata": {},
   "outputs": [
    {
     "name": "stdout",
     "output_type": "stream",
     "text": [
      "4\n"
     ]
    }
   ],
   "source": [
    "def toys(w):\n",
    "    w.sort()\n",
    "    containers = 0\n",
    "    i = 0\n",
    "    n = len(w)\n",
    "    while i < n:\n",
    "        containers += 1\n",
    "        limit = w[i] + 4\n",
    "        while i < n and w[i] <= limit:\n",
    "            i += 1\n",
    "    return containers\n",
    "\n",
    "w = [1, 2, 21, 7, 12, 14, 21]\n",
    "print(toys(w))"
   ]
  }
 ],
 "metadata": {
  "kernelspec": {
   "display_name": "Python 3",
   "language": "python",
   "name": "python3"
  },
  "language_info": {
   "codemirror_mode": {
    "name": "ipython",
    "version": 3
   },
   "file_extension": ".py",
   "mimetype": "text/x-python",
   "name": "python",
   "nbconvert_exporter": "python",
   "pygments_lexer": "ipython3",
   "version": "3.12.2"
  }
 },
 "nbformat": 4,
 "nbformat_minor": 2
}
