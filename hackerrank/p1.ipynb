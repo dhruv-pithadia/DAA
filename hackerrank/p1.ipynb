{
 "cells": [
  {
   "cell_type": "code",
   "execution_count": 7,
   "metadata": {},
   "outputs": [
    {
     "name": "stdout",
     "output_type": "stream",
     "text": [
      "0\n"
     ]
    }
   ],
   "source": [
    "from bisect import insort, bisect_left\n",
    "\n",
    "def find_median(trailing_days):\n",
    "    n = len(trailing_days)\n",
    "    if n % 2 == 1:\n",
    "        # If odd, return the middle element\n",
    "        return trailing_days[n // 2]\n",
    "    else:\n",
    "        # If even, return the average of the two middle elements\n",
    "        return (trailing_days[n // 2 - 1] + trailing_days[n // 2]) / 2\n",
    "\n",
    "def activityNotifications(expenditure, d):\n",
    "    # Initialize variables\n",
    "    notifications = 0\n",
    "    trailing_days = sorted(expenditure[:d])  # Get the first 'd' days sorted\n",
    "    \n",
    "    # Iterate over the days starting from day d (where notification checking starts)\n",
    "    for i in range(d, len(expenditure)):\n",
    "        # Calculate the median of the trailing 'd' days\n",
    "        median = find_median(trailing_days)\n",
    "        \n",
    "        # Check if today's spending is at least 2 * median\n",
    "        if expenditure[i] >= 2 * median:\n",
    "            notifications += 1\n",
    "        \n",
    "        # Update the trailing days: remove the oldest day and add the new day\n",
    "        # Remove expenditure[i - d] from trailing_days (the oldest one)\n",
    "        old_value_index = bisect_left(trailing_days, expenditure[i - d])\n",
    "        trailing_days.pop(old_value_index)\n",
    "        \n",
    "        # Insert the new value (expenditure[i]) in the sorted trailing_days list\n",
    "        insort(trailing_days, expenditure[i])\n",
    "    \n",
    "    return notifications\n",
    "\n",
    "# Example usage\n",
    "n = 9\n",
    "d = 5\n",
    "expenditure = [10, 20, 30, 40, 50]\n",
    "result = activityNotifications(expenditure, d)\n",
    "print(result)  # Output should be 2"
   ]
  }
 ],
 "metadata": {
  "kernelspec": {
   "display_name": "Python 3",
   "language": "python",
   "name": "python3"
  },
  "language_info": {
   "codemirror_mode": {
    "name": "ipython",
    "version": 3
   },
   "file_extension": ".py",
   "mimetype": "text/x-python",
   "name": "python",
   "nbconvert_exporter": "python",
   "pygments_lexer": "ipython3",
   "version": "3.12.2"
  }
 },
 "nbformat": 4,
 "nbformat_minor": 2
}
