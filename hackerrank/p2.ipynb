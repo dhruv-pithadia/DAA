{
 "cells": [
  {
   "cell_type": "code",
   "execution_count": 3,
   "metadata": {},
   "outputs": [
    {
     "name": "stdout",
     "output_type": "stream",
     "text": [
      "1 4\n",
      "1 2\n"
     ]
    }
   ],
   "source": [
    "def icecreamParlor():\n",
    "    # Read the number of trips\n",
    "    t = int(input().strip())\n",
    "    \n",
    "    # Iterate for each trip\n",
    "    for _ in range(t):\n",
    "        m = int(input().strip())  # The amount of money they have\n",
    "        n = int(input().strip())  # The number of flavors available\n",
    "        cost = list(map(int, input().strip().split()))  # The list of prices for each flavor\n",
    "        \n",
    "        # Use a dictionary to find the two flavors\n",
    "        cost_dict = {}\n",
    "        \n",
    "        for i in range(n):\n",
    "            complement = m - cost[i]  # Find the complement for the current price\n",
    "            \n",
    "            if complement in cost_dict:\n",
    "                # We found the two flavors, print their indices (1-based)\n",
    "                print(cost_dict[complement] + 1, i + 1)\n",
    "                break\n",
    "            \n",
    "            # Store the current cost and its index in the dictionary\n",
    "            cost_dict[cost[i]] = i\n",
    "\n",
    "# Example of input format:\n",
    "# 2\n",
    "# 4\n",
    "# 5\n",
    "# 1 4 5 3 2\n",
    "# 4\n",
    "# 4\n",
    "# 2 2 4 3\n",
    "\n",
    "icecreamParlor()"
   ]
  }
 ],
 "metadata": {
  "kernelspec": {
   "display_name": "Python 3",
   "language": "python",
   "name": "python3"
  },
  "language_info": {
   "codemirror_mode": {
    "name": "ipython",
    "version": 3
   },
   "file_extension": ".py",
   "mimetype": "text/x-python",
   "name": "python",
   "nbconvert_exporter": "python",
   "pygments_lexer": "ipython3",
   "version": "3.12.2"
  }
 },
 "nbformat": 4,
 "nbformat_minor": 2
}
