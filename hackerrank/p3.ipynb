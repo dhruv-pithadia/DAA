{
 "cells": [
  {
   "cell_type": "code",
   "execution_count": 1,
   "metadata": {},
   "outputs": [
    {
     "name": "stdout",
     "output_type": "stream",
     "text": [
      "YES\n",
      "YES\n"
     ]
    }
   ],
   "source": [
    "def balancedSums(arr):\n",
    "    total_sum = sum(arr)\n",
    "    left_sum = 0\n",
    "    \n",
    "    # Iterate through each element in the array\n",
    "    for i in range(len(arr)):\n",
    "        # Calculate right sum\n",
    "        right_sum = total_sum - left_sum - arr[i]\n",
    "        \n",
    "        # Check if left sum equals right sum\n",
    "        if left_sum == right_sum:\n",
    "            return \"YES\"\n",
    "        \n",
    "        # Update left sum for the next iteration\n",
    "        left_sum += arr[i]\n",
    "    \n",
    "    # If no such index is found, return \"NO\"\n",
    "    return \"NO\"\n",
    "\n",
    "# Example usage with multiple test cases\n",
    "def solve():\n",
    "    t = int(input().strip())  # Number of test cases\n",
    "    for _ in range(t):\n",
    "        n = int(input().strip())  # Number of elements in the array\n",
    "        arr = list(map(int, input().strip().split()))  # Array of integers\n",
    "        print(balancedSums(arr))\n",
    "\n",
    "# Example input format\n",
    "# 2\n",
    "# 3\n",
    "# 1 2 3\n",
    "# 4\n",
    "# 1 2 3 3\n",
    "\n",
    "solve()"
   ]
  }
 ],
 "metadata": {
  "kernelspec": {
   "display_name": "Python 3",
   "language": "python",
   "name": "python3"
  },
  "language_info": {
   "codemirror_mode": {
    "name": "ipython",
    "version": 3
   },
   "file_extension": ".py",
   "mimetype": "text/x-python",
   "name": "python",
   "nbconvert_exporter": "python",
   "pygments_lexer": "ipython3",
   "version": "3.12.2"
  }
 },
 "nbformat": 4,
 "nbformat_minor": 2
}
