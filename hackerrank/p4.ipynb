{
 "cells": [
  {
   "cell_type": "code",
   "execution_count": 2,
   "metadata": {},
   "outputs": [
    {
     "name": "stdout",
     "output_type": "stream",
     "text": [
      "29\n"
     ]
    }
   ],
   "source": [
    "def luckBalance(k, contests):\n",
    "    important_contests = []\n",
    "    unimportant_contests = []\n",
    "    \n",
    "    # Separate important and unimportant contests\n",
    "    for contest in contests:\n",
    "        luck, importance = contest\n",
    "        if importance == 1:\n",
    "            important_contests.append(luck)\n",
    "        else:\n",
    "            unimportant_contests.append(luck)\n",
    "    \n",
    "    # Sort important contests in descending order of luck\n",
    "    important_contests.sort(reverse=True)\n",
    "    \n",
    "    # Maximize the luck balance\n",
    "    # Lose the top 'k' important contests\n",
    "    max_luck = sum(important_contests[:k])\n",
    "    \n",
    "    # Win the remaining important contests\n",
    "    max_luck -= sum(important_contests[k:])\n",
    "    \n",
    "    # Add the luck from all unimportant contests (since she can lose all of them)\n",
    "    max_luck += sum(unimportant_contests)\n",
    "    \n",
    "    return max_luck\n",
    "\n",
    "# Input handling\n",
    "n, k = map(int, input().split())  # Read number of contests and maximum important contests to lose\n",
    "contests = []\n",
    "\n",
    "for _ in range(n):\n",
    "    luck, importance = map(int, input().split())  # Read each contest's luck and importance\n",
    "    contests.append([luck, importance])\n",
    "\n",
    "# Call the function with the provided input and print the result\n",
    "print(luckBalance(k, contests))"
   ]
  }
 ],
 "metadata": {
  "kernelspec": {
   "display_name": "Python 3",
   "language": "python",
   "name": "python3"
  },
  "language_info": {
   "codemirror_mode": {
    "name": "ipython",
    "version": 3
   },
   "file_extension": ".py",
   "mimetype": "text/x-python",
   "name": "python",
   "nbconvert_exporter": "python",
   "pygments_lexer": "ipython3",
   "version": "3.12.2"
  }
 },
 "nbformat": 4,
 "nbformat_minor": 2
}
