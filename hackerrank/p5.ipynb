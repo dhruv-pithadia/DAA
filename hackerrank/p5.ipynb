{
 "cells": [
  {
   "cell_type": "code",
   "execution_count": 1,
   "metadata": {},
   "outputs": [
    {
     "name": "stdout",
     "output_type": "stream",
     "text": [
      "4 2 5 1 3\n"
     ]
    }
   ],
   "source": [
    "def jimOrders(orders):\n",
    "    # Create a list to store (serve_time, customer_number)\n",
    "    serve_times = []\n",
    "    \n",
    "    # Calculate the serve time for each customer and store it along with their customer number\n",
    "    for i in range(len(orders)):\n",
    "        order_number, prep_time = orders[i]\n",
    "        serve_time = order_number + prep_time\n",
    "        serve_times.append((serve_time, i + 1))  # Store (serve_time, customer_number) with 1-based indexing\n",
    "    \n",
    "    # Sort the serve times: First by serve_time, then by customer number if serve times are equal\n",
    "    serve_times.sort()\n",
    "    \n",
    "    # Extract the customer numbers in the order they will be served\n",
    "    result = [customer for serve_time, customer in serve_times]\n",
    "    \n",
    "    # Return the result\n",
    "    return result\n",
    "\n",
    "# Input handling\n",
    "n = int(input())  # Number of customers\n",
    "orders = []\n",
    "\n",
    "# Read the orders\n",
    "for _ in range(n):\n",
    "    order_number, prep_time = map(int, input().split())\n",
    "    orders.append([order_number, prep_time])\n",
    "\n",
    "# Get the order of customers based on serve time\n",
    "result = jimOrders(orders)\n",
    "\n",
    "# Print the result as space-separated customer numbers\n",
    "print(\" \".join(map(str, result)))"
   ]
  }
 ],
 "metadata": {
  "kernelspec": {
   "display_name": "Python 3",
   "language": "python",
   "name": "python3"
  },
  "language_info": {
   "codemirror_mode": {
    "name": "ipython",
    "version": 3
   },
   "file_extension": ".py",
   "mimetype": "text/x-python",
   "name": "python",
   "nbconvert_exporter": "python",
   "pygments_lexer": "ipython3",
   "version": "3.12.2"
  }
 },
 "nbformat": 4,
 "nbformat_minor": 2
}
