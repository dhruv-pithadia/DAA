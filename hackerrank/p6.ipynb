{
 "cells": [
  {
   "cell_type": "code",
   "execution_count": 1,
   "metadata": {},
   "outputs": [
    {
     "name": "stdout",
     "output_type": "stream",
     "text": [
      "4\n"
     ]
    }
   ],
   "source": [
    "def toys(weights):\n",
    "    # Sort the weights to group items effectively\n",
    "    weights.sort()\n",
    "    \n",
    "    # Initialize the number of containers\n",
    "    containers = 0\n",
    "    i = 0\n",
    "    \n",
    "    # Process all weights\n",
    "    while i < len(weights):\n",
    "        # Start a new container with the current item\n",
    "        containers += 1\n",
    "        # The minimum weight for the current container\n",
    "        min_weight = weights[i]\n",
    "        \n",
    "        # Move to the next item which is more than 4 units away\n",
    "        while i < len(weights) and weights[i] <= min_weight + 4:\n",
    "            i += 1\n",
    "    \n",
    "    return containers\n",
    "\n",
    "# Input handling\n",
    "n = int(input())  # Number of toys\n",
    "weights = list(map(int, input().split()))  # List of toy weights\n",
    "\n",
    "# Call the function with the input and print the result\n",
    "print(toys(weights))"
   ]
  }
 ],
 "metadata": {
  "kernelspec": {
   "display_name": "Python 3",
   "language": "python",
   "name": "python3"
  },
  "language_info": {
   "codemirror_mode": {
    "name": "ipython",
    "version": 3
   },
   "file_extension": ".py",
   "mimetype": "text/x-python",
   "name": "python",
   "nbconvert_exporter": "python",
   "pygments_lexer": "ipython3",
   "version": "3.12.2"
  }
 },
 "nbformat": 4,
 "nbformat_minor": 2
}
