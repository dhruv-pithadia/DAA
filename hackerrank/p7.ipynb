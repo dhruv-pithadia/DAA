{
 "cells": [
  {
   "cell_type": "code",
   "execution_count": 1,
   "metadata": {},
   "outputs": [
    {
     "name": "stdout",
     "output_type": "stream",
     "text": [
      "4\n"
     ]
    }
   ],
   "source": [
    "def runningTime(arr):\n",
    "    shifts = 0  # To keep track of the number of shifts\n",
    "    \n",
    "    # Perform Insertion Sort\n",
    "    for i in range(1, len(arr)):\n",
    "        key = arr[i]\n",
    "        j = i - 1\n",
    "        \n",
    "        # Move elements of arr[0..i-1], that are greater than key, to one position ahead of their current position\n",
    "        while j >= 0 and arr[j] > key:\n",
    "            arr[j + 1] = arr[j]  # Shift element to the right\n",
    "            j -= 1\n",
    "            shifts += 1  # Increment shift count\n",
    "        \n",
    "        arr[j + 1] = key  # Place key in its correct position\n",
    "    \n",
    "    return shifts\n",
    "\n",
    "# Input handling\n",
    "n = int(input())  # Read the size of the array\n",
    "arr = list(map(int, input().split()))  # Read the array elements\n",
    "\n",
    "# Call the function and print the result\n",
    "print(runningTime(arr))"
   ]
  }
 ],
 "metadata": {
  "kernelspec": {
   "display_name": "Python 3",
   "language": "python",
   "name": "python3"
  },
  "language_info": {
   "codemirror_mode": {
    "name": "ipython",
    "version": 3
   },
   "file_extension": ".py",
   "mimetype": "text/x-python",
   "name": "python",
   "nbconvert_exporter": "python",
   "pygments_lexer": "ipython3",
   "version": "3.12.2"
  }
 },
 "nbformat": 4,
 "nbformat_minor": 2
}
