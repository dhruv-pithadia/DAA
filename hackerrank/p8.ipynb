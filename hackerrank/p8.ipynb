{
 "cells": [
  {
   "cell_type": "code",
   "execution_count": 1,
   "metadata": {},
   "outputs": [
    {
     "name": "stdout",
     "output_type": "stream",
     "text": [
      "-20 30\n"
     ]
    }
   ],
   "source": [
    "def closestNumbers(arr):\n",
    "    # Sort the array first\n",
    "    arr.sort()\n",
    "    \n",
    "    # Initialize the minimum difference to a large number\n",
    "    min_diff = float('inf')\n",
    "    result = []\n",
    "    \n",
    "    # Find the minimum difference between consecutive elements\n",
    "    for i in range(1, len(arr)):\n",
    "        diff = arr[i] - arr[i - 1]\n",
    "        \n",
    "        if diff < min_diff:\n",
    "            # Found a new minimum difference, clear previous pairs\n",
    "            min_diff = diff\n",
    "            result = [arr[i - 1], arr[i]]\n",
    "        elif diff == min_diff:\n",
    "            # If the difference is the same as min_diff, add the pair\n",
    "            result.extend([arr[i - 1], arr[i]])\n",
    "    \n",
    "    return result\n",
    "\n",
    "# Input handling\n",
    "n = int(input())  # Number of elements in the array\n",
    "arr = list(map(int, input().split()))  # List of integers\n",
    "\n",
    "# Call the function and print the result\n",
    "print(\" \".join(map(str, closestNumbers(arr))))"
   ]
  }
 ],
 "metadata": {
  "kernelspec": {
   "display_name": "Python 3",
   "language": "python",
   "name": "python3"
  },
  "language_info": {
   "codemirror_mode": {
    "name": "ipython",
    "version": 3
   },
   "file_extension": ".py",
   "mimetype": "text/x-python",
   "name": "python",
   "nbconvert_exporter": "python",
   "pygments_lexer": "ipython3",
   "version": "3.12.2"
  }
 },
 "nbformat": 4,
 "nbformat_minor": 2
}
